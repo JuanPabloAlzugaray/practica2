{
 "cells": [
  {
   "cell_type": "code",
   "execution_count": 11,
   "id": "672df2a1",
   "metadata": {},
   "outputs": [],
   "source": [
    "import pandas as pd\n",
    "\n",
    "# Cargar el archivo CSV en un DataFrame\n",
    "data = pd.read_csv('C:\\\\Users\\\\juan pablo\\\\Downloads\\\\NISPUF17.csv')"
   ]
  },
  {
   "cell_type": "code",
   "execution_count": 12,
   "id": "75bfe2b2",
   "metadata": {},
   "outputs": [
    {
     "name": "stdout",
     "output_type": "stream",
     "text": [
      "*******************************************\n",
      "ejercio nro 1\n"
     ]
    }
   ],
   "source": [
    "print(\"*******************************************\")\n",
    "print(\"ejercio nro 1\")"
   ]
  },
  {
   "cell_type": "code",
   "execution_count": 13,
   "metadata": {},
   "outputs": [],
   "source": [
    "def cantidad_de_educadores():\n",
    "    # Contar las ocurrencias de cada valor único en la columna EDUC1\n",
    "    conteo_educacion = data['EDUC1'].value_counts(normalize=True)\n",
    "\n",
    "    # Crear un diccionario con las proporciones\n",
    "    proporciones = {\n",
    "        \"menos de secundaria\": conteo_educacion.get(1, 0),\n",
    "        \"secundaria\": conteo_educacion.get(2, 0),\n",
    "        \"más de secundaria pero no universidad\": conteo_educacion.get(3, 0),\n",
    "        \"universidad\": conteo_educacion.get(4, 0)\n",
    "    }\n",
    "\n",
    "    print(proporciones)"
   ]
  },
  {
   "cell_type": "code",
   "execution_count": 14,
   "metadata": {},
   "outputs": [
    {
     "name": "stdout",
     "output_type": "stream",
     "text": [
      "{'menos de secundaria': 0.10202002459160373, 'secundaria': 0.172352011241876, 'más de secundaria pero no universidad': 0.24588090637625154, 'universidad': 0.47974705779026877}\n"
     ]
    }
   ],
   "source": [
    "# Ejecutar la función y obtener el diccionario con las proporciones\n",
    "cantidad_de_educadores()"
   ]
  },
  {
   "cell_type": "code",
   "execution_count": 15,
   "metadata": {},
   "outputs": [
    {
     "name": "stdout",
     "output_type": "stream",
     "text": [
      "*******************************************\n",
      "ejercio nro 2\n",
      "CBF_01\n",
      "1     24261\n",
      "2      4085\n",
      "77      110\n",
      "99        9\n",
      "Name: count, dtype: int64\n"
     ]
    }
   ],
   "source": [
    "print(\"*******************************************\")\n",
    "print(\"ejercio nro 2\")\n",
    "\n",
    "# Contar las ocurrencias de cada valor único en la columna CBF_01\n",
    "value_counts_cbf_01 = data['CBF_01'].value_counts()\n",
    "\n",
    "print(value_counts_cbf_01)"
   ]
  },
  {
   "cell_type": "code",
   "execution_count": 16,
   "metadata": {},
   "outputs": [
    {
     "name": "stdout",
     "output_type": "stream",
     "text": [
      "*******************************************\n",
      "ejercio nro 3\n"
     ]
    }
   ],
   "source": [
    "print(\"*******************************************\")\n",
    "print(\"ejercio nro 3\")"
   ]
  },
  {
   "cell_type": "code",
   "execution_count": 17,
   "metadata": {},
   "outputs": [],
   "source": [
    "def chickenpox_by_sex(df):\n",
    "    # Contar el número de niños y niñas que contrajeron varicela después de estar vacunados (HAD_CPOX=1) y los que fueron vacunados pero no contrajeron varicela (HAD_CPOX=2)\n",
    "    vaccinated_boys_with_chickenpox = len(df[(df['SEX'] == 1) & (df['P_NUMVRC'] >= 1) & (df['HAD_CPOX'] == 1)])\n",
    "    vaccinated_boys_without_chickenpox = len(df[(df['SEX'] == 1) & (df['P_NUMVRC'] >= 1) & (df['HAD_CPOX'] == 2)])\n",
    "\n",
    "    vaccinated_girls_with_chickenpox = len(df[(df['SEX'] == 2) & (df['P_NUMVRC'] >= 1) & (df['HAD_CPOX'] == 1)])\n",
    "    vaccinated_girls_without_chickenpox = len(df[(df['SEX'] == 2) & (df['P_NUMVRC'] >= 1) & (df['HAD_CPOX'] == 2)])\n",
    "\n",
    "    # Calcular el ratio por genero\n",
    "    ratio_by_sex = {\n",
    "        \"masculino\": vaccinated_boys_with_chickenpox / vaccinated_boys_without_chickenpox if vaccinated_boys_without_chickenpox != 0 else 0,\n",
    "        \"femenino\": vaccinated_girls_with_chickenpox / vaccinated_girls_without_chickenpox if vaccinated_girls_without_chickenpox != 0 else 0\n",
    "    }\n",
    "\n",
    "    return ratio_by_sex"
   ]
  },
  {
   "cell_type": "code",
   "execution_count": 18,
   "metadata": {},
   "outputs": [
    {
     "name": "stdout",
     "output_type": "stream",
     "text": [
      "{'masculino': 0.009675583380762664, 'femenino': 0.0077918259335489565}\n"
     ]
    }
   ],
   "source": [
    "# Llamar a la función para obtener los resultados\n",
    "print(chickenpox_by_sex(data))"
   ]
  }
 ],
 "metadata": {
  "kernelspec": {
   "display_name": "Python 3",
   "language": "python",
   "name": "python3"
  },
  "language_info": {
   "codemirror_mode": {
    "name": "ipython",
    "version": 3
   },
   "file_extension": ".py",
   "mimetype": "text/x-python",
   "name": "python",
   "nbconvert_exporter": "python",
   "pygments_lexer": "ipython3",
   "version": "3.11.2"
  }
 },
 "nbformat": 4,
 "nbformat_minor": 5
}
